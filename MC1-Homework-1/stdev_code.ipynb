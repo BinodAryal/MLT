{
 "cells": [
  {
   "cell_type": "code",
   "execution_count": 24,
   "metadata": {
    "collapsed": false
   },
   "outputs": [
    {
     "name": "stdout",
     "output_type": "stream",
     "text": [
      "the population stdev is 2.0\n",
      "the sample stdev is 2.1380899353\n"
     ]
    }
   ],
   "source": [
    "\"\"\"http://quantsoftware.gatech.edu/MC1-Homework-1\"\"\"\n",
    "\n",
    "import math as m\n",
    "import pandas as pd\n",
    "\n",
    "# calculate the population standard deviation\n",
    "def stdev_p(data):\n",
    "    m1 = sum(data) / len(data)\n",
    "    s = 0\n",
    "    for item in data:\n",
    "        s = s + (item-m1)*(item-m1)\n",
    "    std = m.sqrt(s / len(data))\n",
    "    return std\n",
    "\n",
    "# calculate the sample standard deviation\n",
    "def stdev_s(data):\n",
    "    m1 = sum(data) / len(data)\n",
    "    s = 0\n",
    "    for item in data:\n",
    "        s = s + (item-m1)*(item-m1)\n",
    "    std = m.sqrt(s / (len(data)-1))\n",
    "    return std\n",
    "\n",
    "if __name__ == \"__main__\":\n",
    "    test = [2.0, 4.0, 4.0, 4.0, 5.0, 5.0, 7.0, 9.0]\n",
    "    print \"the population stdev is\", stdev_p(test)\n",
    "    print \"the sample stdev is\", stdev_s(test)"
   ]
  },
  {
   "cell_type": "code",
   "execution_count": null,
   "metadata": {
    "collapsed": true
   },
   "outputs": [],
   "source": []
  }
 ],
 "metadata": {
  "kernelspec": {
   "display_name": "Python 2",
   "language": "python",
   "name": "python2"
  },
  "language_info": {
   "codemirror_mode": {
    "name": "ipython",
    "version": 2
   },
   "file_extension": ".py",
   "mimetype": "text/x-python",
   "name": "python",
   "nbconvert_exporter": "python",
   "pygments_lexer": "ipython2",
   "version": "2.7.6"
  }
 },
 "nbformat": 4,
 "nbformat_minor": 0
}
