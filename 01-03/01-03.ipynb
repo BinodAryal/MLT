{
 "cells": [
  {
   "cell_type": "code",
   "execution_count": 1,
   "metadata": {
    "collapsed": true
   },
   "outputs": [],
   "source": [
    "import numpy as np"
   ]
  },
  {
   "cell_type": "code",
   "execution_count": 59,
   "metadata": {
    "collapsed": false
   },
   "outputs": [
    {
     "name": "stdout",
     "output_type": "stream",
     "text": [
      "Original array a:\n",
      "[[ 1  2  3  4  5]\n",
      " [10 20 30 40 50]]\n",
      "\n",
      "Multiply a by 2:\n",
      "[[  2   4   6   8  10]\n",
      " [ 20  40  60  80 100]]\n",
      "\n",
      "Divide a by 2:\n",
      "[[ 0  1  1  2  2]\n",
      " [ 5 10 15 20 25]]\n",
      "\n",
      "Divide a by 2.0:\n",
      "[[  0.5   1.    1.5   2.    2.5]\n",
      " [  5.   10.   15.   20.   25. ]]\n",
      "\n",
      "Original array b:\n",
      "[[100 200 300 400 500]\n",
      " [  1   2   3   4   5]]\n",
      "\n",
      "Add a + b:\n",
      "[[101 202 303 404 505]\n",
      " [ 11  22  33  44  55]]\n",
      "\n",
      "Multiply a and b:\n",
      "[[ 100  400  900 1600 2500]\n",
      " [  10   40   90  160  250]]\n",
      "\n",
      "Divide a and b:\n",
      "[[ 0  0  0  0  0]\n",
      " [10 10 10 10 10]]\n"
     ]
    }
   ],
   "source": [
    "\"\"\"Arithmetic operations.\"\"\"\n",
    "import numpy as np\n",
    "\n",
    "def test_run():\n",
    "    a = np.array([(1, 2, 3, 4, 5), (10, 20, 30, 40, 50)])\n",
    "    print \"Original array a:\\n\", a\n",
    "    \n",
    "    # Multiply a by 2\n",
    "    print \"\\nMultiply a by 2:\\n\", 2*a\n",
    "    \n",
    "    # Divide a by 2\n",
    "    print \"\\nDivide a by 2:\\n\", a/2\n",
    "    print \"\\nDivide a by 2.0:\\n\", a/2.0\n",
    "    \n",
    "    b = np.array([(100, 200, 300, 400, 500), (1, 2, 3, 4, 5)])\n",
    "    print \"\\nOriginal array b:\\n\", b\n",
    "    \n",
    "    # Add the two arrays\n",
    "    print \"\\nAdd a + b:\\n\", a + b\n",
    "    \n",
    "    # Multiply the two arrays\n",
    "    print \"\\nMultiply a and b:\\n\", a*b\n",
    "    \n",
    "    # Divide the two arrays\n",
    "    print \"\\nDivide a and b:\\n\", a/b\n",
    "    \n",
    "    \n",
    "    \n",
    "test_run()"
   ]
  },
  {
   "cell_type": "code",
   "execution_count": 52,
   "metadata": {
    "collapsed": false
   },
   "outputs": [
    {
     "name": "stdout",
     "output_type": "stream",
     "text": [
      "[[20 25 10 23 26 32 10  5  0]\n",
      " [ 0  2 50 20  0  1 28  5  0]]\n",
      "14.2777777778\n",
      "[10 10  5  0  0  2  0  1  5  0]\n",
      "[[20 25 14 23 26 32 14 14 14]\n",
      " [14 14 50 20 14 14 28 14 14]]\n"
     ]
    }
   ],
   "source": [
    "\"\"\"Accessing elements #4 \"\"\"\n",
    "import numpy as np\n",
    "def test_run():\n",
    "    a = np.array([(20, 25, 10, 23, 26, 32, 10, 5, 0), (0, 2, 50, 20, 0, 1, 28, 5, 0)])\n",
    "    print a\n",
    "    \n",
    "    # calculating mean\n",
    "    mean = a.mean()\n",
    "    print mean\n",
    "    \n",
    "    # masking\n",
    "    print a[a<mean]\n",
    "    \n",
    "    a[a<mean] = mean\n",
    "    print a\n",
    "    \n",
    "test_run()"
   ]
  },
  {
   "cell_type": "code",
   "execution_count": 47,
   "metadata": {
    "collapsed": false
   },
   "outputs": [
    {
     "name": "stdout",
     "output_type": "stream",
     "text": [
      "[ 0.94573632  0.18445554  0.85068615  0.09467445  0.7819472 ]\n",
      "[ 0.18445554  0.18445554  0.85068615  0.09467445]\n"
     ]
    }
   ],
   "source": [
    "\"\"\"Accessing elements #3 \"\"\"\n",
    "import numpy as np\n",
    "def test_run():\n",
    "    a = np.random.rand(5)\n",
    "    print a\n",
    "    \n",
    "    #accessing using list of indices\n",
    "    indices = np.array([1, 1, 2, 3])\n",
    "    print a[indices]\n",
    "    \n",
    "test_run()"
   ]
  },
  {
   "cell_type": "code",
   "execution_count": null,
   "metadata": {
    "collapsed": true
   },
   "outputs": [],
   "source": [
    "\"\"\"Accessing array elements. #2 \"\"\"\n",
    "import numpy as np\n",
    "\n",
    "def test_run():\n",
    "    a = np.random.rand(5, 4)\n",
    "    print \"Array:\\n\", a\n",
    "    \n",
    "    # Accessing element at position (3, 2)\n",
    "    element = a[3, 2]\n",
    "    print element\n",
    "    \n",
    "    # Elements in defined range\n",
    "    print a[0, 1:3]\n",
    "    print a[0:2, 0:2]\n",
    "    print a[:, 0:3:2] # will select columns 0, 2 for every row\n",
    "    \n",
    "test_run()"
   ]
  },
  {
   "cell_type": "code",
   "execution_count": 44,
   "metadata": {
    "collapsed": false
   },
   "outputs": [
    {
     "name": "stdout",
     "output_type": "stream",
     "text": [
      "Array:\n",
      "[[ 0.37754032  0.49182432  0.29573844  0.16164786]\n",
      " [ 0.75106851  0.31369312  0.62061538  0.32400708]\n",
      " [ 0.57037186  0.10121704  0.45555342  0.37046722]\n",
      " [ 0.52318449  0.13011157  0.40803274  0.92571757]\n",
      " [ 0.85906333  0.87390795  0.27972161  0.85634816]]\n",
      "0.408032739208\n",
      "[ 0.49182432  0.29573844]\n",
      "[[ 0.37754032  0.49182432]\n",
      " [ 0.75106851  0.31369312]]\n",
      "[[ 0.37754032  0.29573844]\n",
      " [ 0.75106851  0.62061538]\n",
      " [ 0.57037186  0.45555342]\n",
      " [ 0.52318449  0.40803274]\n",
      " [ 0.85906333  0.27972161]]\n",
      "\n",
      "Modified (replaced one element):\n",
      "[[ 1.          0.49182432  0.29573844  0.16164786]\n",
      " [ 0.75106851  0.31369312  0.62061538  0.32400708]\n",
      " [ 0.57037186  0.10121704  0.45555342  0.37046722]\n",
      " [ 0.52318449  0.13011157  0.40803274  0.92571757]\n",
      " [ 0.85906333  0.87390795  0.27972161  0.85634816]]\n",
      "\n",
      "Modified (replaced one element):\n",
      "[[ 2.          2.          2.          2.        ]\n",
      " [ 0.75106851  0.31369312  0.62061538  0.32400708]\n",
      " [ 0.57037186  0.10121704  0.45555342  0.37046722]\n",
      " [ 0.52318449  0.13011157  0.40803274  0.92571757]\n",
      " [ 0.85906333  0.87390795  0.27972161  0.85634816]]\n",
      "\n",
      "Modified (replaced one element):\n",
      "[[ 2.          2.          2.          1.        ]\n",
      " [ 0.75106851  0.31369312  0.62061538  2.        ]\n",
      " [ 0.57037186  0.10121704  0.45555342  3.        ]\n",
      " [ 0.52318449  0.13011157  0.40803274  4.        ]\n",
      " [ 0.85906333  0.87390795  0.27972161  5.        ]]\n"
     ]
    }
   ],
   "source": [
    "\"\"\"Accessing array elements. #1 \"\"\"\n",
    "import numpy as np\n",
    "\n",
    "def test_run():\n",
    "    a = np.random.rand(5, 4)\n",
    "    print \"Array:\\n\", a\n",
    "    \n",
    "    # Assigning a value to a particular location\n",
    "    a[0, 0] = 1\n",
    "    print \"\\nModified (replaced one element):\\n\", a\n",
    "    a[0, :] = 2\n",
    "    print \"\\nModified (replaced one element):\\n\", a\n",
    "    a[:, 3] = [1, 2, 3, 4, 5]\n",
    "    print \"\\nModified (replaced one element):\\n\", a\n",
    "\n",
    "test_run()"
   ]
  },
  {
   "cell_type": "code",
   "execution_count": 38,
   "metadata": {
    "collapsed": false
   },
   "outputs": [
    {
     "name": "stdout",
     "output_type": "stream",
     "text": [
      "Manual: 0.500114 (1.765 secs.) vs Numpy: 0.500114 (0.010 secs.)\n",
      "NumPy mean is  185.657288297 times faster than manual for loops.\n"
     ]
    }
   ],
   "source": [
    "\"\"\"How fast is NumPy?\"\"\"\n",
    "import numpy as np\n",
    "from time import time\n",
    "\n",
    "def how_long(func, *args):\n",
    "    \"\"\"Execute function with given arguments, and measure execution time.\"\"\"\n",
    "    t0 = time()\n",
    "    result = func(*args) # all arguments are passed in as-is\n",
    "    t1 = time()\n",
    "    return result, t1 - t0\n",
    "\n",
    "def manual_mean(arr):\n",
    "    \"\"\"Compute mean (average) of all elements in the given 2D array.\"\"\"\n",
    "    sum = 0\n",
    "    for i in xrange(0, arr.shape[0]):\n",
    "        for j in xrange(0, arr.shape[1]):\n",
    "            sum = sum + arr[i, j]\n",
    "    return sum / arr.size\n",
    "\n",
    "def numpy_mean(arr):\n",
    "    \"\"\"Compute mean (average) using NumPy.\"\"\"\n",
    "    return arr.mean()\n",
    "\n",
    "def test_run():\n",
    "    \"\"\"Function called by Test Run.\"\"\"\n",
    "    nd1 = np.random.random((1000, 10000))\n",
    "    \n",
    "    # Time the two functions, retrieving results and execution times\n",
    "    res_manual, t_manual = how_long(manual_mean, nd1)\n",
    "    res_numpy, t_numpy = how_long(numpy_mean, nd1)\n",
    "    print \"Manual: {:.6f} ({:.3f} secs.) vs Numpy: {:.6f} ({:.3f} secs.)\".format(res_manual, t_manual, res_numpy, t_numpy)\n",
    "    \n",
    "    # Make sure both give us the same answer (upto some precision)\n",
    "    assert abs(res_manual - res_numpy) <= 10e-6, \"Results aren't equal!\"\n",
    "    \n",
    "    # Compute speedup\n",
    "    speedup = t_manual / t_numpy\n",
    "    print \"NumPy mean is \", speedup, \"times faster than manual for loops.\"\n",
    "\n",
    "test_run()"
   ]
  },
  {
   "cell_type": "code",
   "execution_count": 35,
   "metadata": {
    "collapsed": false
   },
   "outputs": [
    {
     "name": "stdout",
     "output_type": "stream",
     "text": [
      "ML4T\n",
      "The time taken by print statement is  2.62260437012e-05  seconds\n"
     ]
    }
   ],
   "source": [
    "\"\"\"Using time function.\"\"\"\n",
    "import time\n",
    "\n",
    "def test_run():\n",
    "    t1 = time.time()\n",
    "    print \"ML4T\"\n",
    "    t2 = time.time()\n",
    "    print \"The time taken by print statement is \", t2 - t1, \" seconds\"\n",
    "\n",
    "test_run()"
   ]
  },
  {
   "cell_type": "code",
   "execution_count": 33,
   "metadata": {
    "collapsed": false
   },
   "outputs": [
    {
     "name": "stdout",
     "output_type": "stream",
     "text": [
      "Array: [ 9  6  2  3 12 14  7 10]\n",
      "Maximum value: 14\n",
      "Index of max: 5\n"
     ]
    }
   ],
   "source": [
    "def get_max_index(a):\n",
    "    \"\"\"Return the index of the maximum value in given 1D array.\"\"\"\n",
    "    # TODO: Your code here\n",
    "    #return np.argmax(a)\n",
    "    return a.argmax()\n",
    "\n",
    "def test_run():\n",
    "    a = np.array([9, 6, 2, 3, 12, 14, 7, 10], dtype=np.int32)  # 32-bit integer array\n",
    "    print \"Array:\", a\n",
    "    \n",
    "    # Find the maximum and its index in array\n",
    "    print \"Maximum value:\", a.max()\n",
    "    print \"Index of max:\", get_max_index(a)\n",
    "\n",
    "\n",
    "test_run()\n"
   ]
  },
  {
   "cell_type": "code",
   "execution_count": 27,
   "metadata": {
    "collapsed": false
   },
   "outputs": [
    {
     "name": "stdout",
     "output_type": "stream",
     "text": [
      "Array:\n",
      "[[2 0 5 1]\n",
      " [1 3 4 4]\n",
      " [9 2 9 1]\n",
      " [9 3 7 5]\n",
      " [4 7 0 3]]\n",
      "Sum of all elements: 79\n",
      "Sum of each column:\n",
      "[25 15 25 14]\n",
      "Sum of each row:\n",
      "[ 8 12 21 24 14]\n",
      "Minimum of each column:\n",
      "[1 0 0 1]\n",
      "Maximum of each row:\n",
      "[5 4 9 9 7]\n",
      "Mean of all elements: 3.95\n"
     ]
    }
   ],
   "source": [
    "# operations on ndarrays\n",
    "def test_run():\n",
    "    np.random.seed(693)\n",
    "    a = np.random.randint(0, 10, size=(5, 4))\n",
    "    print \"Array:\\n\", a\n",
    "    \n",
    "    # Sum of all elements\n",
    "    print \"Sum of all elements:\", a.sum()\n",
    "    \n",
    "    # Iterate over rows, to compute sum of each column\n",
    "    print \"Sum of each column:\\n\", a.sum(axis=0)\n",
    "    \n",
    "    # Iterate over columns to compute sum of each row\n",
    "    print \"Sum of each row:\\n\", a.sum(axis=1)\n",
    "    \n",
    "    # Statistics: min, max, mean (across rows, cols, and overall)\n",
    "    print \"Minimum of each column:\\n\", a.min(axis=0)\n",
    "    print \"Maximum of each row:\\n\", a.max(axis=1)\n",
    "    print \"Mean of all elements:\", a.mean()\n",
    "    \n",
    "test_run()"
   ]
  },
  {
   "cell_type": "code",
   "execution_count": 22,
   "metadata": {
    "collapsed": false
   },
   "outputs": [
    {
     "name": "stdout",
     "output_type": "stream",
     "text": [
      "5\n",
      "4\n",
      "20\n",
      "float64\n"
     ]
    }
   ],
   "source": [
    "def array_attributes():\n",
    "    # Array attributes\n",
    "    a = np.random.random((5, 4))\n",
    "    print a.shape[0] # number of rows\n",
    "    print a.shape[1] # number of columns\n",
    "    print a.size # number of elements\n",
    "    print a.dtype\n",
    "\n",
    "array_attributes()"
   ]
  },
  {
   "cell_type": "code",
   "execution_count": 23,
   "metadata": {
    "collapsed": true
   },
   "outputs": [
    {
     "name": "stdout",
     "output_type": "stream",
     "text": [
      "[[2 3 4]\n",
      " [5 6 7]]\n",
      "[  0.00000000e+000   9.28188876e-317   0.00000000e+000   0.00000000e+000\n",
      "   0.00000000e+000]\n",
      "[[ 0.50213533  0.18027242  0.46645857  0.44808619]\n",
      " [ 0.34808517  0.50653717  0.82711359  0.89529303]\n",
      " [ 0.02684817  0.33068669  0.59958154  0.57820452]\n",
      " [ 0.2532948   0.11581983  0.53998597  0.17237983]\n",
      " [ 0.48793926  0.97751516  0.36384281  0.06607974]]\n",
      "[[ 1.  1.  1.  1.]\n",
      " [ 1.  1.  1.  1.]\n",
      " [ 1.  1.  1.  1.]\n",
      " [ 1.  1.  1.  1.]\n",
      " [ 1.  1.  1.  1.]]\n",
      "[[1 1 1 1]\n",
      " [1 1 1 1]\n",
      " [1 1 1 1]\n",
      " [1 1 1 1]\n",
      " [1 1 1 1]]\n",
      "[[ 0.9087986   0.44149322  0.67587352  0.17416927]\n",
      " [ 0.87881681  0.45608087  0.88528777  0.50046219]\n",
      " [ 0.39243468  0.0932956   0.79994083  0.551996  ]\n",
      " [ 0.14015764  0.16663778  0.30330638  0.76974871]\n",
      " [ 0.84372202  0.75800847  0.40466715  0.04583874]]\n",
      "[[ 0.69162362  1.95831918 -0.24122636  0.96082222]\n",
      " [ 1.11718456  1.00897951  0.09708725 -0.21744984]\n",
      " [-0.23043736 -0.89389249  0.32574022 -0.77789142]]\n",
      "[ 31.54309996   7.72935523  63.83488799]\n",
      "[23 16 24]\n"
     ]
    }
   ],
   "source": [
    "def test_run():\n",
    "    print np.array([(2, 3, 4), (5, 6, 7)])\n",
    "    print np.empty(5)\n",
    "    print np.empty((5, 4))\n",
    "    print np.ones((5, 4))\n",
    "    print np.ones((5, 4), dtype=np.int_)\n",
    "    print np.random.rand(5,4) # uniform distribution [0, 1)\n",
    "    print np.random.normal(size=(3,4))  # mean 0, std 1\n",
    "    print np.random.normal(10, 30, size=3) # mean 10, std 30\n",
    "    # Random integers\n",
    "    print np.random.randint(10, 30, size=3) # mean 10, std 30\n",
    "    \n",
    "test_run()"
   ]
  }
 ],
 "metadata": {
  "kernelspec": {
   "display_name": "Python 2",
   "language": "python",
   "name": "python2"
  },
  "language_info": {
   "codemirror_mode": {
    "name": "ipython",
    "version": 2
   },
   "file_extension": ".py",
   "mimetype": "text/x-python",
   "name": "python",
   "nbconvert_exporter": "python",
   "pygments_lexer": "ipython2",
   "version": "2.7.6"
  }
 },
 "nbformat": 4,
 "nbformat_minor": 0
}
